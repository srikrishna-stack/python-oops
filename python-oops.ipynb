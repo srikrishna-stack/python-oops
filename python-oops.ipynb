{
 "cells": [
  {
   "cell_type": "code",
   "execution_count": 48,
   "id": "45b7eb28-2b79-4f11-b45d-103b43c98abf",
   "metadata": {},
   "outputs": [
    {
     "name": "stdout",
     "output_type": "stream",
     "text": [
      "Welcome to the kitchen\n"
     ]
    }
   ],
   "source": [
    "class house:\n",
    "    def __init__(self):\n",
    "        self.wall=1\n",
    "    def kitchen(self):\n",
    "        print(\"Welcome to the kitchen\")\n",
    "h=house()\n",
    "h.kitchen()\n",
    "\n",
    "\n"
   ]
  },
  {
   "cell_type": "code",
   "execution_count": 8,
   "id": "66bae93f-ba88-43b6-9cd4-08b9d78e93e3",
   "metadata": {},
   "outputs": [
    {
     "name": "stdout",
     "output_type": "stream",
     "text": [
      "this is static method\n",
      "this class id used for representing\n",
      "Shape is of category geometrical\n",
      "and shape is triangle\n",
      "Shape is of category geometrical\n",
      "and shape is square\n",
      "Shape is of category geometrical\n",
      "and shape is circle\n"
     ]
    }
   ],
   "source": [
    "#static variable\n",
    "class shape:\n",
    "    cat='geometrical'#static variable\n",
    "    @staticmethod\n",
    "    def info(msg):\n",
    "        print(msg)\n",
    "        print('this class id used for representing')\n",
    "    def __init__(self,type):\n",
    "        #instance variable\n",
    "        \n",
    "        self.type=type\n",
    "    def show(self):\n",
    "        print('Shape is of category',shape.cat)\n",
    "        print('and shape is',self.type)\n",
    "shape.info('this is static method')\n",
    "tr=shape('triangle')\n",
    "sq=shape('square')\n",
    "rec=shape('circle')\n",
    "tr.show()\n",
    "sq.show()\n",
    "rec.show()"
   ]
  },
  {
   "cell_type": "code",
   "execution_count": 19,
   "id": "1b1a33c8-ef79-4889-9b58-8cd472268275",
   "metadata": {},
   "outputs": [
    {
     "name": "stdout",
     "output_type": "stream",
     "text": [
      "house is intialized, walls are 4\n",
      "the basement has constructed.the area is 20\n"
     ]
    }
   ],
   "source": [
    "#nested classes\n",
    "class House:\n",
    "    def __init__(self,dynamicwall):\n",
    "        self.wall=dynamicwall\n",
    "    def houseInfo(self):\n",
    "        print(\"house is intialized, walls are\",self.wall)\n",
    "    class Basement:\n",
    "        def __init__(self,dynamicArea):\n",
    "            \n",
    "            self.area=dynamicArea\n",
    "        def info(self):\n",
    "            print(\"the basement has constructed.the area is\",self.area)\n",
    "house=House(4)\n",
    "house.houseInfo()\n",
    "#using outer class object to create inner class object\n",
    "base=house.Basement(20)\n",
    "base.info()\n",
    "\n",
    "            "
   ]
  },
  {
   "cell_type": "code",
   "execution_count": null,
   "id": "9945c93a-0f1d-4262-ac93-f93024f89275",
   "metadata": {},
   "outputs": [],
   "source": [
    "#acess modiers\n",
    "#by default it is public in nature in python\n",
    "class emoloyee:\n",
    "    def __init__(self,name,sal):\n",
    "        self._name=name#protected attribute\n",
    "        sefl._salary=sal "
   ]
  },
  {
   "cell_type": "code",
   "execution_count": 39,
   "id": "0ab9d7c4-6116-4549-9dda-176b02138834",
   "metadata": {},
   "outputs": [
    {
     "name": "stdout",
     "output_type": "stream",
     "text": [
      "20000\n",
      "10000\n",
      "We manage employees\n",
      "Name captain Salary 20000\n"
     ]
    }
   ],
   "source": [
    "#protected -Demo\n",
    "class employee:\n",
    "    def __init__(self,name,sal):\n",
    "        self._name=name;\n",
    "        self._salary=sal;\n",
    "    def _info(self):\n",
    "        print(\"Name\",self._name,\"Salary\",self._salary)\n",
    "#defining a child class\n",
    "class HR(employee):\n",
    "    def task(self):\n",
    "        print(\"We manage employees\")\n",
    "emp=employee(\"captain\",20000)\n",
    "print(emp._salary)\n",
    "hremp=HR('captian',10000)\n",
    "print(hremp._salary)\n",
    "hremp.task()\n",
    "emp._info()\n",
    "\n",
    "    "
   ]
  },
  {
   "cell_type": "code",
   "execution_count": 45,
   "id": "baba9e89-b220-445c-a234-891c381a3091",
   "metadata": {},
   "outputs": [
    {
     "name": "stdout",
     "output_type": "stream",
     "text": [
      "welcome to  Stark industries\n",
      "here Stark industries is working on mark 4\n",
      "the salary of Stark industries is 99999\n"
     ]
    }
   ],
   "source": [
    "class company:\n",
    "    def __init__(self,name,proj):\n",
    "        self.name=name\n",
    "        self._proj=proj\n",
    "    def show(self):#protected variable\n",
    "        print(\"the code of the company\",self.ccode)\n",
    "class emp(company):\n",
    "    def __init__(self,eName,sal,cName,proj):\n",
    "        #calling parent class\n",
    "        company.__init__(self,cName,proj)\n",
    "        self.name=cName\n",
    "        self.__sal=sal#private variable\n",
    "    def  show_sal(self):\n",
    "        print(\"the salary of\",self.name,\"is\",self.__sal)\n",
    "c=company(\"Stark industries\",\"mark 4\")\n",
    "#creating instance of employee class\n",
    "e=emp(\"steve\",99999,c.name,c._proj)\n",
    "print(\"welcome to \",c.name)\n",
    "print(\"here\",e.name,\"is working on\",e._proj)\n",
    "e.show_sal()"
   ]
  },
  {
   "cell_type": "code",
   "execution_count": 39,
   "id": "67b6293d-c95d-4d68-880d-285b66bbf32f",
   "metadata": {},
   "outputs": [
    {
     "name": "stdout",
     "output_type": "stream",
     "text": [
      "driving max speed honda 120\n",
      "max speed of the car 150\n",
      "driving max speed telsa 150\n",
      "car name telsa\n",
      "driving max speed telsa 150\n"
     ]
    }
   ],
   "source": [
    "#encapsulation \n",
    "class Car:\n",
    "    __maxspeed=0#private variable acess precisfire\n",
    "    __name=\"\"\n",
    "    def __init__(self,speed,name):\n",
    "        self.__maxspeed=speed\n",
    "        self.__name=name\n",
    "    def drive(self):\n",
    "        print(\"driving max speed\",self.__name,self.__maxspeed)\n",
    "    def setMaxspeed(self,speed):\n",
    "        self.__maxspeed=speed\n",
    "        print(\"max speed of the car\", self.__maxspeed)\n",
    "    def getCarName(self):\n",
    "        return self.__name\n",
    "    def setcarName(self,name):\n",
    "        self.__name=name\n",
    "    def getMaxspeed(self):\n",
    "        return self.__maxspeed\n",
    "if __name__==\"__main__\":\n",
    "    rc=Car(120,\"honda\")\n",
    "    rc.drive()\n",
    "    rc.setMaxspeed(150)\n",
    "    rc.setcarName(\"telsa\")\n",
    "    rc.drive()\n",
    "    cname=rc.getCarName()\n",
    "    print(\"car name\",cname)\n",
    "    rc.drive()\n",
    "    \n",
    "    \n",
    "              "
   ]
  },
  {
   "cell_type": "code",
   "execution_count": 36,
   "id": "13b7d948-89ff-4846-a777-8d40a2aa40c2",
   "metadata": {},
   "outputs": [
    {
     "name": "stdout",
     "output_type": "stream",
     "text": [
      "Triangle\n",
      "triangle is having 3 sides 3 sides\n",
      "polygon ...multisides..\n",
      "pentagom is having 5 sides\n"
     ]
    }
   ],
   "source": [
    "#abstraction\n",
    "#hiding the real implimentation\n",
    "#ABC abstract base class\n",
    "from abc import ABC,abstractmethod\n",
    "class Polygon(ABC):\n",
    "    @abstractmethod\n",
    "    def noofsides(self):\n",
    "        \n",
    "        pass\n",
    "    def pinfo(self):\n",
    "        print(\"polygon ...multisides..\")\n",
    "class Triangle(Polygon):\n",
    "    def info(self):\n",
    "        \n",
    "        print(\"Triangle\")\n",
    "    #0verrdide the abstract  the  abstract method and the definition\n",
    "    def noofsides(self,val):\n",
    "        print(\"triangle is having 3 sides\",val,\"sides\")\n",
    "class pentagon(Polygon):\n",
    "    def noofsides(self,val):\n",
    "        print(\"pentagom is having\",val,\"sides\")\n",
    "        \n",
    "        \n",
    "    \n",
    "t1=Triangle()\n",
    "t1.info()\n",
    "t1.noofsides(3)\n",
    "t1.pinfo()\n",
    "p1=pentagon()\n",
    "p1.noofsides(5)\n"
   ]
  },
  {
   "cell_type": "code",
   "execution_count": 43,
   "id": "81676253-0549-4676-b0fd-ae62e546a322",
   "metadata": {},
   "outputs": [
    {
     "ename": "TypeError",
     "evalue": "Can't instantiate abstract class animal with abstract methods move",
     "output_type": "error",
     "traceback": [
      "\u001b[0;31m---------------------------------------------------------------------------\u001b[0m",
      "\u001b[0;31mTypeError\u001b[0m                                 Traceback (most recent call last)",
      "\u001b[0;32m<ipython-input-43-695745412917>\u001b[0m in \u001b[0;36m<module>\u001b[0;34m\u001b[0m\n\u001b[1;32m      4\u001b[0m     \u001b[0;32mdef\u001b[0m \u001b[0mmove\u001b[0m\u001b[0;34m(\u001b[0m\u001b[0mself\u001b[0m\u001b[0;34m)\u001b[0m\u001b[0;34m:\u001b[0m\u001b[0;34m\u001b[0m\u001b[0;34m\u001b[0m\u001b[0m\n\u001b[1;32m      5\u001b[0m         \u001b[0;32mpass\u001b[0m\u001b[0;34m\u001b[0m\u001b[0;34m\u001b[0m\u001b[0m\n\u001b[0;32m----> 6\u001b[0;31m \u001b[0mc\u001b[0m\u001b[0;34m=\u001b[0m\u001b[0manimal\u001b[0m\u001b[0;34m(\u001b[0m\u001b[0;34m)\u001b[0m\u001b[0;34m\u001b[0m\u001b[0;34m\u001b[0m\u001b[0m\n\u001b[0m\u001b[1;32m      7\u001b[0m \u001b[0mc\u001b[0m\u001b[0;34m.\u001b[0m\u001b[0mmove\u001b[0m\u001b[0;34m(\u001b[0m\u001b[0;34m)\u001b[0m\u001b[0;34m\u001b[0m\u001b[0;34m\u001b[0m\u001b[0m\n",
      "\u001b[0;31mTypeError\u001b[0m: Can't instantiate abstract class animal with abstract methods move"
     ]
    }
   ],
   "source": [
    "from abc import ABC,abstractmethod\n",
    "class animal(ABC):\n",
    "    @abstractmethod\n",
    "    def move(self):\n",
    "        pass\n",
    "c=animal()\n",
    "c.move()"
   ]
  },
  {
   "cell_type": "code",
   "execution_count": 49,
   "id": "1ae12d41-55f2-48e3-8950-f9bd31612679",
   "metadata": {},
   "outputs": [
    {
     "name": "stdout",
     "output_type": "stream",
     "text": [
      "Car is drive mode\n",
      "status:  200 speed  200 year yes\n"
     ]
    }
   ],
   "source": [
    "from abc import abstractmethod,ABC\n",
    "class vehicle(ABC):\n",
    "    def __init__(self,speed,year):\n",
    "        self.speed=speed\n",
    "        self.year=year\n",
    "    def start(self):\n",
    "        print(\"Starting enine\")\n",
    "    def stop(self):\n",
    "        print(\"stepping engine\")\n",
    "    @abstractmethod\n",
    "    def drive(self):\n",
    "        pass\n",
    "class car(vehicle):\n",
    "    def __init__(self,carclimbmountains,speed,year):\n",
    "        vehicle.__init__(self,speed,year)\n",
    "        self.carclimbmountains=carclimbmountains\n",
    "        #heree have to  override the asract methis\n",
    "    def drive(self):\n",
    "        print(\"Car is drive mode\")\n",
    "    def info(self):\n",
    "        print(\"status: \",self.carclimbmountains,\"speed \",self.speed,\"year\",self.year)\n",
    "tesla =car(200,200,\"yes\")\n",
    "tesla.drive()\n",
    "tesla.info()"
   ]
  },
  {
   "cell_type": "code",
   "execution_count": 50,
   "id": "c0a82f58-3043-46ad-a4d2-f548d0697280",
   "metadata": {},
   "outputs": [
    {
     "name": "stdout",
     "output_type": "stream",
     "text": [
      "cat name kitty cat age 2\n",
      "meow meow\n",
      "dog name fluppy dog age 3\n",
      "bark\n"
     ]
    }
   ],
   "source": [
    "#polymorphism\n",
    "#having many function for the same name\n",
    "class cat:\n",
    "    def __init__(self,name,age):\n",
    "        self.name=name\n",
    "        self.age=age\n",
    "    def info(self):\n",
    "        print(\"cat name\",self.name,\"cat age\",self.age)\n",
    "    def make_sound(self):\n",
    "        print(\"meow meow\")\n",
    "class Dog:\n",
    "    def __init__(self,name,age):\n",
    "        self.name=name\n",
    "        self.age=age\n",
    "    def info(self):\n",
    "        print(\"dog name\",self.name,\"dog age\",self.age)\n",
    "    def make_sound(self):\n",
    "        print(\"bark\")\n",
    "\n",
    "cat1=cat(\"kitty\",2)\n",
    "dog1=Dog(\"fluppy\",3)\n",
    "for animal in (cat1,dog1):\n",
    "    animal.info()\n",
    "    animal.make_sound()"
   ]
  },
  {
   "cell_type": "code",
   "execution_count": 57,
   "id": "5f0812c5-e7b4-4dbc-bcab-ece28aa67594",
   "metadata": {},
   "outputs": [
    {
     "name": "stdout",
     "output_type": "stream",
     "text": [
      "5 square\n",
      "25\n",
      "Square is a 2D shape\n"
     ]
    }
   ],
   "source": [
    "from math import pi\n",
    "class shape:\n",
    "    def __init__(self,name):\n",
    "        self.name=name\n",
    "    def area(self):\n",
    "        pass\n",
    "    def fact(self):\n",
    "        return \"I am a 2D sshape\"\n",
    "    #if we didnt override the value of the it print default method\n",
    "class square(shape):\n",
    "    def __init__(self,length):\n",
    "        super().__init__(\"square\")\n",
    "        self.length=length\n",
    "        \n",
    "    def area(self):\n",
    "        print(self.length,self.name)\n",
    "        return self.length**2\n",
    "    def fact(self):\n",
    "        return \"Square is a 2D shape\"\n",
    "sq=square(5)\n",
    "print(sq.area())\n",
    "print(sq.fact())"
   ]
  },
  {
   "cell_type": "code",
   "execution_count": null,
   "id": "3be71d54-db86-4ffc-81a8-5cef6b269b14",
   "metadata": {},
   "outputs": [],
   "source": []
  },
  {
   "cell_type": "code",
   "execution_count": null,
   "id": "f55cd73f-97f4-418c-8ed9-3ecd7874f248",
   "metadata": {},
   "outputs": [],
   "source": []
  },
  {
   "cell_type": "code",
   "execution_count": null,
   "id": "f07512e9-0669-4624-b76c-dcad0802d00b",
   "metadata": {},
   "outputs": [],
   "source": []
  },
  {
   "cell_type": "code",
   "execution_count": null,
   "id": "f22a3a4c-7e69-47b9-ae7e-750cee6b8e9c",
   "metadata": {},
   "outputs": [],
   "source": []
  },
  {
   "cell_type": "code",
   "execution_count": null,
   "id": "ad5936f3-8a2d-479e-92f2-ef9d94147c1c",
   "metadata": {},
   "outputs": [],
   "source": []
  },
  {
   "cell_type": "code",
   "execution_count": null,
   "id": "bae1055d-d541-4ad1-a5fc-2bed43707656",
   "metadata": {},
   "outputs": [],
   "source": []
  },
  {
   "cell_type": "code",
   "execution_count": null,
   "id": "e0e51635-3b92-4dea-b6a2-10df3deda098",
   "metadata": {},
   "outputs": [],
   "source": []
  },
  {
   "cell_type": "code",
   "execution_count": null,
   "id": "c200b67d-167e-4e88-8d35-1d4bda697964",
   "metadata": {},
   "outputs": [],
   "source": []
  },
  {
   "cell_type": "code",
   "execution_count": null,
   "id": "8ebec025-2946-425d-97d8-34b5f2bb48df",
   "metadata": {},
   "outputs": [],
   "source": []
  },
  {
   "cell_type": "code",
   "execution_count": null,
   "id": "5b4a5a26-8f4c-46b3-85c9-c17f563175aa",
   "metadata": {},
   "outputs": [],
   "source": []
  },
  {
   "cell_type": "code",
   "execution_count": null,
   "id": "ebd9cfb3-00b7-4819-a3d4-014ab8e523ca",
   "metadata": {},
   "outputs": [],
   "source": []
  },
  {
   "cell_type": "code",
   "execution_count": null,
   "id": "7246ebd5-c9ca-49ad-b93d-9112f015a15e",
   "metadata": {},
   "outputs": [],
   "source": []
  },
  {
   "cell_type": "code",
   "execution_count": null,
   "id": "50025bd9-61a7-48f7-935a-0d70466fecb0",
   "metadata": {},
   "outputs": [],
   "source": []
  },
  {
   "cell_type": "code",
   "execution_count": null,
   "id": "d7550c30-c0f5-4e62-9a1b-82ced963391b",
   "metadata": {},
   "outputs": [],
   "source": []
  }
 ],
 "metadata": {
  "kernelspec": {
   "display_name": "Python 3",
   "language": "python",
   "name": "python3"
  },
  "language_info": {
   "codemirror_mode": {
    "name": "ipython",
    "version": 3
   },
   "file_extension": ".py",
   "mimetype": "text/x-python",
   "name": "python",
   "nbconvert_exporter": "python",
   "pygments_lexer": "ipython3",
   "version": "3.8.8"
  }
 },
 "nbformat": 4,
 "nbformat_minor": 5
}
